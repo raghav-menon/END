{
  "nbformat": 4,
  "nbformat_minor": 0,
  "metadata": {
    "colab": {
      "name": "AdvancedPython.ipynb",
      "provenance": [],
      "collapsed_sections": []
    },
    "kernelspec": {
      "name": "python3",
      "display_name": "Python 3"
    }
  },
  "cells": [
    {
      "cell_type": "markdown",
      "metadata": {
        "id": "jkA7ojCjSvsT"
      },
      "source": [
        "Question 1:\n",
        "Write a function using only list filter lambda that can tell whether a number is a Fibonacci number or not. You can use a pre-calculated list/dict to store fab numbers till 10000"
      ]
    },
    {
      "cell_type": "code",
      "metadata": {
        "id": "2KDSzj-jUlJV",
        "outputId": "3ea14f8b-3871-42bc-dbdf-29e817b08bf5",
        "colab": {
          "base_uri": "https://localhost:8080/"
        }
      },
      "source": [
        "#Question 1\n",
        "\n",
        "# Checking whether a given number is Fibonacci or not from a list of 10000 numbers \n",
        "from functools import reduce\n",
        "N=10000\n",
        "\n",
        "# Function to generate list of Fibonacci Numbers less than N\n",
        "# reduce function generates N Fibonacci Numbers in the range 0 to N. The initial values are provided in the reduce function [0,1]\n",
        "# Filter function selects all the numbers <=N (in this case 1000)\n",
        "# Use Fibonacci(N) to get the Fibonacci Number <= N\n",
        "Fibonacci = lambda n: filter(lambda x : x<=n, reduce(lambda x, _ : x + [x[-1]+x[-2]] , range(n-2),[0,1]))\n",
        "\n",
        "# Lambda function checking whether the number is Fibonacci or not if the number is less than 10000\n",
        "# use func(number) to check whether the number is  in the list of Fibonacci Numbers generated\n",
        "func = lambda number: (print('%d - Is a Fibonacci number' %(number)) if number in list(Fibonacci(N)) else print('%d - Not a Fibonacci number' %(number))) if number < N else print (\"%d greater than %d. Hence cannot be checked\" %(number, N))\n",
        "\n",
        "\n",
        "numbers_sequence = [1,2,5,8,1000,28657,1000000000000000000,55,56,13,34,46]\n",
        "results = filter(func, numbers_sequence)\n",
        "\n",
        "for result in results:\n",
        "  print(result)"
      ],
      "execution_count": null,
      "outputs": [
        {
          "output_type": "stream",
          "text": [
            "1 - Is a Fibonacci number\n",
            "2 - Is a Fibonacci number\n",
            "5 - Is a Fibonacci number\n",
            "8 - Is a Fibonacci number\n",
            "1000 - Not a Fibonacci number\n",
            "28657 greater than 10000. Hence cannot be checked\n",
            "1000000000000000000 greater than 10000. Hence cannot be checked\n",
            "55 - Is a Fibonacci number\n",
            "56 - Not a Fibonacci number\n",
            "13 - Is a Fibonacci number\n",
            "34 - Is a Fibonacci number\n",
            "46 - Not a Fibonacci number\n"
          ],
          "name": "stdout"
        }
      ]
    },
    {
      "cell_type": "markdown",
      "metadata": {
        "id": "8hxq1r2XS4dr"
      },
      "source": [
        "Question 2: Using list comprehension (and zip/lambda/etc if required) write five different expressions that:\n",
        "i) add 2 iterables a and b such that a is even and b is odd\n",
        "2) strips every vowel from a string provided (tsai>>t s)\n",
        "3) acts like a ReLU function for a 1D array\n",
        "4) acts like a sigmoid function for a 1D array\n",
        "5) takes a small character string and shifts all characters by 5 \n",
        "   (handle boundary conditions) tsai>>yxfn"
      ]
    },
    {
      "cell_type": "code",
      "metadata": {
        "id": "OctgUKNLDI3o",
        "outputId": "c24fb38b-a376-4a74-ed65-5a0b66ef66e4",
        "colab": {
          "base_uri": "https://localhost:8080/"
        }
      },
      "source": [
        "#Question 2\n",
        "\n",
        "import numpy as np\n",
        "import random\n",
        "from functools import reduce\n",
        "\n",
        "# 1) add 2 iterables a and b such that a is even and b is odd\n",
        "N = 10\n",
        "#List of random integer numbers between 0 and 9999 fro which even and odd numbers would be selected\n",
        "LIST = [random.randint(0,9999) for x in range(N)]\n",
        "print(\"List of Random Numbers: \",LIST)\n",
        "\n",
        "a = list(filter(lambda varX: varX % 2 == 0,LIST))    # Getting the Even Numbers from LIST\n",
        "b = list(filter(lambda varX: varX % 2 != 0,LIST))    # Getting the Odd Numbers from the LIST\n",
        "\n",
        "# If the length of the list are different append the smaller list with zeros so that they can be added\n",
        "if len(a) < len(b):\n",
        "  diff = len(b) -len(a)\n",
        "  a = a + [0] * diff\n",
        "else:\n",
        "  diff = len(a)-len(b)\n",
        "  b = b + [0] * diff\n",
        "\n",
        "#a = [x for x in range(N) if x%2 == 0]           # List comprehension to get all the even numbers <=N\n",
        "#b = [x for x in range(N) if x%2 != 0]           # List comprehension to get all the odd numbers <= N\n",
        "print(\"a = \", a)          \n",
        "print(\"b = \", b)\n",
        "SUM = [x+y for x,y in zip(a,b)]                 # List Comprehension to add the List of Even and Odd Numbers generated above\n",
        "print(\"SUM [a+b] = \", SUM)\n",
        "\n",
        "#2) strips every vowel from a string provided (tsai>>t s)\n",
        "string = 'tsai'\n",
        "vow = ['a','e','i','o','u']\n",
        "str_vowels = [x for x in string if x.lower() not in vow]       # List comprehension to strip a string of vowels\n",
        "print(\"Vowels Stripped = \", str_vowels)\n",
        "\n",
        "\n",
        "#3) acts like a ReLU function for a 1D array\n",
        "number = np.array([-1000000000,-1,-2,3,5,6,-100, 50, 2000, -300000000])\n",
        "func = lambda x: 0 if x < 0 else x                                        \n",
        "RELU = [func(x) for x in number]\n",
        "print(RELU)\n",
        "\n",
        "#4) acts like a sigmoid function for a 1D array\n",
        "number = np.array([-10,-1,-2,3,5,6,-100, 50, 200, -300])\n",
        "sig_func = lambda x: 1/(1 + np.exp(-x))\n",
        "sigmoid = [sig_func(x) for x in number] \n",
        "print(\"Sigmoid = \", sigmoid)\n",
        "\n",
        "#5) takes a small character string and shifts all characters by 5\n",
        "strin = 'zephyr'\n",
        "# Gets the character displaced by 5 from the current character. In case towards the end it cycles i.e. if 'z' is present in the word then the function gives an 'e'\n",
        "f = lambda x: chr(ord(x.lower())+5) if (ord(x.lower())+5) <=ord('z') else chr(ord('a')-ord('z')+ord(x.lower())+4)  \n",
        "strng = ''.join([f(x) for x in strin])\n",
        "print(\"Shifted string for %s is %s\" %(strin,strng))"
      ],
      "execution_count": 36,
      "outputs": [
        {
          "output_type": "stream",
          "text": [
            "List of Random Numbers:  [3589, 7466, 231, 8335, 5486, 7647, 8488, 7471, 9229, 1931]\n",
            "a =  [7466, 5486, 8488, 0, 0, 0, 0]\n",
            "b =  [3589, 231, 8335, 7647, 7471, 9229, 1931]\n",
            "SUM [a+b] =  [11055, 5717, 16823, 7647, 7471, 9229, 1931]\n",
            "Vowels Stripped =  ['t', 's']\n",
            "[0, 0, 0, 3, 5, 6, 0, 50, 2000, 0]\n",
            "Sigmoid =  [4.5397868702434395e-05, 0.2689414213699951, 0.11920292202211755, 0.9525741268224334, 0.9933071490757153, 0.9975273768433653, 3.7200759760208356e-44, 1.0, 1.0, 5.148200222412014e-131]\n",
            "Shifted string for zephyr is ejumdw\n"
          ],
          "name": "stdout"
        }
      ]
    },
    {
      "cell_type": "markdown",
      "metadata": {
        "id": "nZR4_DQPTSAe"
      },
      "source": [
        "Question 3: A list comprehension expression that takes a ~200 word paragraph (write your own paragraph to check), and checks whether it has any of the swear words mentioned in https://github.com/RobertJGabriel/Google-profanity-words/blob/master/list.txt"
      ]
    },
    {
      "cell_type": "code",
      "metadata": {
        "id": "0SOSIXalBwg3",
        "outputId": "f4b095ce-8b93-4f60-c871-e8e478573373",
        "colab": {
          "base_uri": "https://localhost:8080/",
          "height": 35
        }
      },
      "source": [
        "#Question 3\n",
        "\n",
        "#A list comprehension expression that takes a ~200 word paragraph (write your own paragraph to check), and checks whether it has any of the swear words mentioned in https://github.com/RobertJGabriel/Google-profanity-words/blob/master/list.txt\n",
        "import requests\n",
        "from bs4 import BeautifulSoup as BS\n",
        "import re\n",
        "import numpy as np\n",
        "\n",
        "#Downloading the list of swear words from the link and getting the contents into a list\n",
        "swear_words = requests.get('https://github.com/RobertJGabriel/Google-profanity-words/blob/master/list.txt').content\n",
        "#help(swear_words)\n",
        "html_parser = BS(swear_words, 'html.parser')\n",
        "Swords = [re.sub('\\n','',x.text) for x in html_parser.find_all('tr')]\n",
        "\n",
        "sentence = \"\"\"If yo girl cant have homeboys you a ol weak ass nigga. I think worst advice I gave you was \"\" don't be a pussy and speed up\"\" lol. \"\"\"\n",
        "\n",
        "#sentence = \"\"\"Alphabet Inc.'s Google and the US Justice Department are set to face each other in court Friday for the first time since the government sued the company for illegally monopolizing internet search. The hearing marks the first time attorneys for Google and the government will come together to start mapping out the the litigation process. It will set the stage for what’s shaping up to be a drawn-out court battle that could ultimately weaken Google’s gatekeeper position over the web if the government is successful.'We're at the top of the first inning of a very long game,' said Mark McCareins, a professor at Northwestern University’s Kellogg School of Management.\"\"\"\n",
        "\n",
        "# Lambda function to check whether a word in the list 'Swords' is present in the variable 'sentence'\n",
        "func = lambda x: 'Present' if np.sum(np.asarray([True if word in Swords else False for word in x.lower().split()])) >= 1 else 'Not Present'\n",
        "\n",
        "func(sentence)\n"
      ],
      "execution_count": null,
      "outputs": [
        {
          "output_type": "execute_result",
          "data": {
            "application/vnd.google.colaboratory.intrinsic+json": {
              "type": "string"
            },
            "text/plain": [
              "'Present'"
            ]
          },
          "metadata": {
            "tags": []
          },
          "execution_count": 3
        }
      ]
    },
    {
      "cell_type": "markdown",
      "metadata": {
        "id": "g9RXwlY9TdFi"
      },
      "source": [
        "Question 4: Using reduce functions: \n",
        "1) add only even numbers in a list\n",
        "2) find the biggest character in a string (printable ascii characters)\n",
        "3) adds every 3rd number in a list"
      ]
    },
    {
      "cell_type": "code",
      "metadata": {
        "id": "OWpOI2JjdX99",
        "outputId": "f68763e3-65cf-4ddf-c799-7fb9b3b33eb4",
        "colab": {
          "base_uri": "https://localhost:8080/"
        }
      },
      "source": [
        "#Question 4\n",
        "\n",
        "#1) add only even numbers in a list\n",
        "from functools import reduce\n",
        "import  random\n",
        "\n",
        "\n",
        "N = random.randint(1,10)  # Random Value for N\n",
        "print(N)\n",
        "#List comprehension to create random numbers and printing the List\n",
        "List = [random.randint(0,9999) for x in range(N)]\n",
        "print(\"List of random numbers generated: \",List)\n",
        "\n",
        "# Lambda Function to obtain the Sum of Even numbers from a list of random N Numbers. Usage EvenSum(List)\n",
        "EvenSum = lambda n: reduce(lambda x, y: x+y, list(filter(lambda Y: Y%2==0, n)), 0)\n",
        "print(\"Sum of Even Numbers in a random list of %d numbers is %d:\" %(N,EvenSum(List)))\n",
        "\n",
        "#2) find the biggest character in a string (printable ascii characters)\n",
        "\n",
        "String = 'There is a gentle zephyr. I am throughly enjoying it.'\n",
        "Greatest = lambda x,y: x if ord(x) > ord(y) else y\n",
        "func = lambda paragraph: reduce(Greatest,  list([x for x in paragraph]) )\n",
        "print(\"The biggest character in the given string {%s} is: %s\" %(String,func(String)))\n",
        "\n",
        "#adds every 3rd number in a list\n",
        "\n",
        "\n",
        "# Using the same random List generated above\n",
        "# Function which returns every third value in a list\n",
        "def func(List):\n",
        "    LoddIndices =[]\n",
        "    for i,j in enumerate(List):\n",
        "        if i%3==0:\n",
        "            LoddIndices.append(j)\n",
        "    return (LoddIndices)\n",
        "\n",
        "# Lambda Function to obtain the Sum of every third number < = N. Usage SumthirdNum(N)\n",
        "SumthirdNum = lambda List: reduce(lambda x, y: x+y ,func(List))\n",
        "print(\"Result of addition of every third number in a given list of numbers is : %d\" %SumthirdNum(List) )\n"
      ],
      "execution_count": null,
      "outputs": [
        {
          "output_type": "stream",
          "text": [
            "8\n",
            "List of random numbers generated:  [4579, 59, 4036, 9555, 3592, 7189, 5819, 8028]\n",
            "Sum of Even Numbers in a random list of 8 numbers is 15656:\n",
            "The biggest character in the given string {There is a gentle zephyr. I am throughly enjoying it.} is: z\n",
            "Result of addition of every third number in a given list of numbers is : 19953\n"
          ],
          "name": "stdout"
        }
      ]
    },
    {
      "cell_type": "markdown",
      "metadata": {
        "id": "7rVk0b5mTtgQ"
      },
      "source": [
        "Question 5: Using randint, random.choice and list comprehensions, write an expression that generates 15 random KADDAADDDD number plates, where KA is fixed, D stands for a digit, and A stands for Capital alphabets. 10<<DD<<99 & 1000<<DDDD<<9999"
      ]
    },
    {
      "cell_type": "code",
      "metadata": {
        "id": "ZSqsANLD0Q81",
        "outputId": "d02e4c7a-bbc9-49e3-9aaf-d7add1b12c14",
        "colab": {
          "base_uri": "https://localhost:8080/"
        }
      },
      "source": [
        "## Question 5\n",
        "\n",
        "#Using randint, random.choice and list comprehensions, write an expression that generates 15 random KADDAADDDD number plates, where KA is fixed, D stands for a digit, and A stands for Capital alphabets. 10<<DD<<99 & 1000<<DDDD<<9999\n",
        "import string\n",
        "import random\n",
        "\n",
        "N=15\n",
        "#Lambda Function to generate random integer between 1000 and 9999\n",
        "DDDD = lambda x: random.randint(1000, 9999)\n",
        "#Lambda Function to generate random integer between 10 and 99\n",
        "DD = lambda x: random.randint(10,99)\n",
        "#Lambda Function to generate random integer between A and Z\n",
        "A  = lambda x: random.choice(list(string.ascii_uppercase))\n",
        "#Lambda Function to generate a random KADDAADDDD\n",
        "func = lambda x:  'KA'+str(DD(0))+A(0)+A(0)+str(DDDD(0))\n",
        "#Lambda Function to generate N random KADDAADDDD\n",
        "NumberPlateNums = [func(N) for N in range(N)]\n",
        "print(NumberPlateNums)\n"
      ],
      "execution_count": null,
      "outputs": [
        {
          "output_type": "stream",
          "text": [
            "['KA72JY7999', 'KA26LY7535', 'KA34XF2658', 'KA81NY7170', 'KA93UR6560', 'KA47CO6581', 'KA72SE2996', 'KA91GU4238', 'KA67FR1087', 'KA10MZ3486', 'KA59IL7337', 'KA44FY2269', 'KA66BO4509', 'KA37MY9610', 'KA28TU9099']\n"
          ],
          "name": "stdout"
        }
      ]
    },
    {
      "cell_type": "markdown",
      "metadata": {
        "id": "VB2tYy-zT1g7"
      },
      "source": [
        "Question 6: Write the above again from scratch where KA can be changed to DL, and 1000/9999 ranges can be provided. "
      ]
    },
    {
      "cell_type": "code",
      "metadata": {
        "id": "nbg-jPh_7Kbn",
        "outputId": "4760266d-7901-4321-da0e-080bbdb426f2",
        "colab": {
          "base_uri": "https://localhost:8080/"
        }
      },
      "source": [
        "#Question 6\n",
        "#Write the above again from scratch where KA can be changed to DL, and 1000/9999 ranges can be provided.\n",
        "# Same as above except DDDD is parameterized\n",
        "import string\n",
        "import random\n",
        "\n",
        "N=15\n",
        "DDDD = lambda x,y: random.randint(x, y)\n",
        "DD = lambda x: random.randint(10,99)\n",
        "A  = lambda x: random.choice(list(string.ascii_uppercase))\n",
        "func = lambda x,y:  'DL'+str(DD(0))+A(0)+A(0)+str(DDDD(x,y))\n",
        "NumberPlateNums = [func(1000,2000) for N in range(N)]\n",
        "print(NumberPlateNums)\n"
      ],
      "execution_count": null,
      "outputs": [
        {
          "output_type": "stream",
          "text": [
            "['DL49CD1593', 'DL80BM1585', 'DL35VO1132', 'DL57UO1527', 'DL27UW1972', 'DL98BN1077', 'DL25HY1234', 'DL34RQ1061', 'DL34SZ1368', 'DL73RQ1662', 'DL36RG1148', 'DL49PU1174', 'DL90KY1291', 'DL22NN1393', 'DL13VN1445']\n"
          ],
          "name": "stdout"
        }
      ]
    }
  ]
}