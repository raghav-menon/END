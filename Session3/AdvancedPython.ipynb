{
  "nbformat": 4,
  "nbformat_minor": 0,
  "metadata": {
    "colab": {
      "name": "AdvancedPython.ipynb",
      "provenance": [],
      "collapsed_sections": []
    },
    "kernelspec": {
      "name": "python3",
      "display_name": "Python 3"
    }
  },
  "cells": [
    {
      "cell_type": "markdown",
      "metadata": {
        "id": "jkA7ojCjSvsT"
      },
      "source": [
        "Question 1:\n",
        "Write a function using only list filter lambda that can tell whether a number is a Fibonacci number or not. You can use a pre-calculated list/dict to store fab numbers till 10000"
      ]
    },
    {
      "cell_type": "code",
      "metadata": {
        "id": "2KDSzj-jUlJV",
        "outputId": "014b96ca-d54c-4851-a0c7-5d869aabcd8b",
        "colab": {
          "base_uri": "https://localhost:8080/"
        }
      },
      "source": [
        "#Question 1\n",
        "\n",
        "# Checking whether a given number is Fibonacci or not from a list of 10000 numbers \n",
        "from functools import reduce\n",
        "N=10000\n",
        "\n",
        "# Function to generate list of Fibonacci Numbers less than N\n",
        "#Fibonacci = lambda n: reduce(lambda x, _ : x + [x[-1]+x[-2]] , range(n-2),[0,1]) \n",
        "Fibonacci = lambda n: filter(lambda x : x<=n, reduce(lambda x, _ : x + [x[-1]+x[-2]] , range(n-2),[0,1]))\n",
        "\n",
        "# Lambda function checking whether the number is Fibonacci or not if the number is less than 10000\n",
        "func = lambda number: (print('%d - Is a Fibonacci number' %(number)) if number in list(Fibonacci(N)) else print('%d - Not a Fibonacci number' %(number))) if number < N else print (\"%d greater than %d. Hence cannot be checked\" %(number, N))\n",
        "\n",
        "\n",
        "numbers_sequence = [1,2,5,8,1000,28657,1000000000000000000,55,56,13,34,46]\n",
        "results = filter(func, numbers_sequence)\n",
        "\n",
        "for result in results:\n",
        "  print(result)"
      ],
      "execution_count": 7,
      "outputs": [
        {
          "output_type": "stream",
          "text": [
            "1 - Is a Fibonacci number\n",
            "2 - Is a Fibonacci number\n",
            "5 - Is a Fibonacci number\n",
            "8 - Is a Fibonacci number\n",
            "1000 - Not a Fibonacci number\n",
            "28657 greater than 10000. Hence cannot be checked\n",
            "1000000000000000000 greater than 10000. Hence cannot be checked\n",
            "55 - Is a Fibonacci number\n",
            "56 - Not a Fibonacci number\n",
            "13 - Is a Fibonacci number\n",
            "34 - Is a Fibonacci number\n",
            "46 - Not a Fibonacci number\n"
          ],
          "name": "stdout"
        }
      ]
    },
    {
      "cell_type": "markdown",
      "metadata": {
        "id": "8hxq1r2XS4dr"
      },
      "source": [
        "Question 2: Using list comprehension (and zip/lambda/etc if required) write five different expressions that:\n",
        "i) add 2 iterables a and b such that a is even and b is odd\n",
        "2) strips every vowel from a string provided (tsai>>t s)\n",
        "3) acts like a ReLU function for a 1D array\n",
        "4) acts like a sigmoid function for a 1D array\n",
        "5) takes a small character string and shifts all characters by 5 \n",
        "   (handle boundary conditions) tsai>>yxfn"
      ]
    },
    {
      "cell_type": "code",
      "metadata": {
        "id": "OctgUKNLDI3o",
        "outputId": "befcf5c2-cd28-4298-8143-967dd310c817",
        "colab": {
          "base_uri": "https://localhost:8080/"
        }
      },
      "source": [
        "#Question 2\n",
        "\n",
        "import numpy as np\n",
        "\n",
        "# 1) add 2 iterables a and b such that a is even and b is odd\n",
        "N = 100\n",
        "a = [x for x in range(N) if x%2 == 0]\n",
        "b = [x for x in range(N) if x%2 != 0]\n",
        "print(\"a = \", a)\n",
        "print(\"b = \", b)\n",
        "SUM = [x+y for x,y in zip(a,b)]\n",
        "print(\"SUM [a+b] = \", SUM)\n",
        "\n",
        "#2) strips every vowel from a string provided (tsai>>t s)\n",
        "string = 'tsai'\n",
        "vow = ['a','e','i','o','u']\n",
        "str_vowels = [x for x in string if x.lower() not in vow] \n",
        "print(\"Vowels Stripped = \", str_vowels)\n",
        "\n",
        "\n",
        "#3) acts like a ReLU function for a 1D array\n",
        "number = np.array([-1000000000,-1,-2,3,5,6,-100, 50, 2000, -300000000])\n",
        "func = lambda x: 0 if x < 0 else x\n",
        "RELU = [func(x) for x in number]\n",
        "print(RELU)\n",
        "\n",
        "#4) acts like a sigmoid function for a 1D array\n",
        "number = np.array([-10,-1,-2,3,5,6,-100, 50, 200, -300])\n",
        "sig_func = lambda x: 1/(1 + np.exp(-x))\n",
        "sigmoid = [sig_func(x) for x in number] \n",
        "print(\"Sigmoid = \", sigmoid)\n",
        "\n",
        "#5) takes a small character string and shifts all characters by 5\n",
        "strin = 'zephyr'\n",
        "f = lambda x: chr(ord(x.lower())+5) if (ord(x.lower())+5) <=ord('z') else chr(ord('a')-ord('z')+ord(x.lower())+4)\n",
        "strng = ''.join([f(x) for x in strin])\n",
        "print(\"Shifted string for %s is %s\" %(strin,strng))"
      ],
      "execution_count": null,
      "outputs": [
        {
          "output_type": "stream",
          "text": [
            "a =  [0, 2, 4, 6, 8, 10, 12, 14, 16, 18, 20, 22, 24, 26, 28, 30, 32, 34, 36, 38, 40, 42, 44, 46, 48, 50, 52, 54, 56, 58, 60, 62, 64, 66, 68, 70, 72, 74, 76, 78, 80, 82, 84, 86, 88, 90, 92, 94, 96, 98]\n",
            "b =  [1, 3, 5, 7, 9, 11, 13, 15, 17, 19, 21, 23, 25, 27, 29, 31, 33, 35, 37, 39, 41, 43, 45, 47, 49, 51, 53, 55, 57, 59, 61, 63, 65, 67, 69, 71, 73, 75, 77, 79, 81, 83, 85, 87, 89, 91, 93, 95, 97, 99]\n",
            "SUM [a+b] =  [1, 5, 9, 13, 17, 21, 25, 29, 33, 37, 41, 45, 49, 53, 57, 61, 65, 69, 73, 77, 81, 85, 89, 93, 97, 101, 105, 109, 113, 117, 121, 125, 129, 133, 137, 141, 145, 149, 153, 157, 161, 165, 169, 173, 177, 181, 185, 189, 193, 197]\n",
            "Vowels Stripped =  ['t', 's']\n",
            "[0, 0, 0, 3, 5, 6, 0, 50, 2000, 0]\n",
            "Sigmoid =  [4.5397868702434395e-05, 0.2689414213699951, 0.11920292202211755, 0.9525741268224334, 0.9933071490757153, 0.9975273768433653, 3.7200759760208356e-44, 1.0, 1.0, 5.148200222412014e-131]\n",
            "Shifted string for zephyr is ejumdw\n"
          ],
          "name": "stdout"
        }
      ]
    },
    {
      "cell_type": "markdown",
      "metadata": {
        "id": "nZR4_DQPTSAe"
      },
      "source": [
        "Question 3: A list comprehension expression that takes a ~200 word paragraph (write your own paragraph to check), and checks whether it has any of the swear words mentioned in https://github.com/RobertJGabriel/Google-profanity-words/blob/master/list.txt"
      ]
    },
    {
      "cell_type": "code",
      "metadata": {
        "id": "0SOSIXalBwg3",
        "outputId": "19ac1994-5135-413a-f05b-e1c2f3d43006",
        "colab": {
          "base_uri": "https://localhost:8080/",
          "height": 35
        }
      },
      "source": [
        "#Question 3\n",
        "\n",
        "#A list comprehension expression that takes a ~200 word paragraph (write your own paragraph to check), and checks whether it has any of the swear words mentioned in https://github.com/RobertJGabriel/Google-profanity-words/blob/master/list.txt\n",
        "import requests\n",
        "from bs4 import BeautifulSoup as BS\n",
        "import re\n",
        "import numpy as np\n",
        "\n",
        "swear_words = requests.get('https://github.com/RobertJGabriel/Google-profanity-words/blob/master/list.txt').content\n",
        "#help(swear_words)\n",
        "html_parser = BS(swear_words, 'html.parser')\n",
        "Swords = [re.sub('\\n','',x.text) for x in html_parser.find_all('tr')]\n",
        "\n",
        "#sentence = \"\"\"If yo girl cant have homeboys you a ol weak ass nigga. I think worst advice I gave you was \"\" don't be a pussy and speed up\"\" lol. \"\"\"\n",
        "\n",
        "sentence = \"\"\"Alphabet Inc.'s Google and the US Justice Department are set to face each other in court Friday for the first time since the government sued the company for illegally monopolizing internet search. The hearing marks the first time attorneys for Google and the government will come together to start mapping out the the litigation process. It will set the stage for what’s shaping up to be a drawn-out court battle that could ultimately weaken Google’s gatekeeper position over the web if the government is successful.'We're at the top of the first inning of a very long game,' said Mark McCareins, a professor at Northwestern University’s Kellogg School of Management.\"\"\"\n",
        "\n",
        "func = lambda x: 'Present' if np.sum(np.asarray([True if word in Swords else False for word in x.lower().split()])) >= 1 else 'Not Present'\n",
        "\n",
        "func(sentence)\n"
      ],
      "execution_count": null,
      "outputs": [
        {
          "output_type": "execute_result",
          "data": {
            "application/vnd.google.colaboratory.intrinsic+json": {
              "type": "string"
            },
            "text/plain": [
              "'Not Present'"
            ]
          },
          "metadata": {
            "tags": []
          },
          "execution_count": 128
        }
      ]
    },
    {
      "cell_type": "markdown",
      "metadata": {
        "id": "g9RXwlY9TdFi"
      },
      "source": [
        "Question 4: Using reduce functions: \n",
        "1) add only even numbers in a list\n",
        "2) find the biggest character in a string (printable ascii characters)\n",
        "   adds every 3rd number in a list"
      ]
    },
    {
      "cell_type": "code",
      "metadata": {
        "id": "OWpOI2JjdX99",
        "outputId": "d8e270af-1eb1-412b-b64b-c78d1e3500d0",
        "colab": {
          "base_uri": "https://localhost:8080/"
        }
      },
      "source": [
        "#Question 4\n",
        "\n",
        "#1) add only even numbers in a list\n",
        "from functools import reduce\n",
        "\n",
        "\n",
        "N = 13  # Numbers to be generated upto\n",
        "EvenSum = lambda n: reduce(lambda x, y: x+y, list(filter(lambda Y: Y%2==0, range(1, n+1))), 0)\n",
        "print(\"Sum of Even Numbers less than or equal to %d is %d:\" %(N,EvenSum(N)))\n",
        "\n",
        "#2) find the biggest character in a string (printable ascii characters)\n",
        "\n",
        "String = 'There is a gentle zephyr. I am throughly enjoying it.'\n",
        "Greatest = lambda x,y: x if ord(x) > ord(y) else y\n",
        "func = lambda paragraph: reduce(Greatest,  list([x for x in paragraph]) )\n",
        "print(\"The biggest character in the given string {%s} is: %s\" %(String,func(String)))\n",
        "\n",
        "#adds every 3rd number in a list\n",
        "\n",
        "N = 20 # Number of numbers in the list\n",
        "SumthirdNum = lambda n: reduce(lambda x, y: x+y ,list(filter(lambda Y: Y%3==0, range(1, n+1))),0)\n",
        "print(\"Result of addition of every third number in a given list of numbers is : %d\" %SumthirdNum(N) )\n"
      ],
      "execution_count": null,
      "outputs": [
        {
          "output_type": "stream",
          "text": [
            "Sum of Even Numbers less than or equal to 13 is 42:\n",
            "The biggest character in the given string {There is a gentle zephyr. I am throughly enjoying it.} is: z\n",
            "Result of addition of every third number in a given list of numbers is : 63\n"
          ],
          "name": "stdout"
        }
      ]
    },
    {
      "cell_type": "markdown",
      "metadata": {
        "id": "7rVk0b5mTtgQ"
      },
      "source": [
        "Question 5: Using randint, random.choice and list comprehensions, write an expression that generates 15 random KADDAADDDD number plates, where KA is fixed, D stands for a digit, and A stands for Capital alphabets. 10<<DD<<99 & 1000<<DDDD<<9999"
      ]
    },
    {
      "cell_type": "code",
      "metadata": {
        "id": "ZSqsANLD0Q81",
        "outputId": "b120931d-bbb5-4fa4-b060-28ce497dc8dc",
        "colab": {
          "base_uri": "https://localhost:8080/"
        }
      },
      "source": [
        "## Question 5\n",
        "\n",
        "#Using randint, random.choice and list comprehensions, write an expression that generates 15 random KADDAADDDD number plates, where KA is fixed, D stands for a digit, and A stands for Capital alphabets. 10<<DD<<99 & 1000<<DDDD<<9999\n",
        "import string\n",
        "import random\n",
        "\n",
        "N=15\n",
        "DDDD = lambda x: random.randint(1000, 9999)\n",
        "DD = lambda x: random.randint(10,99)\n",
        "A  = lambda x: random.choice(list(string.ascii_uppercase))\n",
        "func = lambda x:  'KA'+str(DD(0))+A(0)+A(0)+str(DDDD(0))\n",
        "NumberPlateNums = [func(N) for N in range(N)]\n",
        "print(NumberPlateNums)\n"
      ],
      "execution_count": null,
      "outputs": [
        {
          "output_type": "stream",
          "text": [
            "['KA40OV4007', 'KA64RL8445', 'KA55XY6264', 'KA66HY3847', 'KA87ZY2293', 'KA67FG3696', 'KA41LW8403', 'KA92RW7419', 'KA37AN5694', 'KA94QV8198', 'KA58YO5886', 'KA58BF5315', 'KA10NV3431', 'KA16MJ7074', 'KA13QH2095']\n"
          ],
          "name": "stdout"
        }
      ]
    },
    {
      "cell_type": "markdown",
      "metadata": {
        "id": "VB2tYy-zT1g7"
      },
      "source": [
        "Question 6: Write the above again from scratch where KA can be changed to DL, and 1000/9999 ranges can be provided. "
      ]
    },
    {
      "cell_type": "code",
      "metadata": {
        "id": "nbg-jPh_7Kbn",
        "outputId": "4760266d-7901-4321-da0e-080bbdb426f2",
        "colab": {
          "base_uri": "https://localhost:8080/"
        }
      },
      "source": [
        "#Question 6\n",
        "#Write the above again from scratch where KA can be changed to DL, and 1000/9999 ranges can be provided.\n",
        "\n",
        "import string\n",
        "import random\n",
        "\n",
        "N=15\n",
        "DDDD = lambda x,y: random.randint(x, y)\n",
        "DD = lambda x: random.randint(10,99)\n",
        "A  = lambda x: random.choice(list(string.ascii_uppercase))\n",
        "func = lambda x,y:  'DL'+str(DD(0))+A(0)+A(0)+str(DDDD(x,y))\n",
        "NumberPlateNums = [func(1000,2000) for N in range(N)]\n",
        "print(NumberPlateNums)\n"
      ],
      "execution_count": null,
      "outputs": [
        {
          "output_type": "stream",
          "text": [
            "['DL49CD1593', 'DL80BM1585', 'DL35VO1132', 'DL57UO1527', 'DL27UW1972', 'DL98BN1077', 'DL25HY1234', 'DL34RQ1061', 'DL34SZ1368', 'DL73RQ1662', 'DL36RG1148', 'DL49PU1174', 'DL90KY1291', 'DL22NN1393', 'DL13VN1445']\n"
          ],
          "name": "stdout"
        }
      ]
    }
  ]
}